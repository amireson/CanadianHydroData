{
 "cells": [
  {
   "cell_type": "markdown",
   "metadata": {},
   "source": [
    "# ECCC Hydat streamflow dawta\n",
    "Andrew Ireson, 22 March 2020\n",
    "\n",
    "Instructions... just run this first... then you should be able to figure it out.\n",
    "\n",
    "Do not expect these data to be too up to date!"
   ]
  },
  {
   "cell_type": "code",
   "execution_count": null,
   "metadata": {},
   "outputs": [],
   "source": [
    "import numpy as np\n",
    "import matplotlib.pyplot as pl\n",
    "import pandas as pd\n",
    "import sqlite3\n",
    "from saveload import saveload as sl"
   ]
  },
  {
   "cell_type": "code",
   "execution_count": null,
   "metadata": {},
   "outputs": [],
   "source": [
    "def GetData(prov,searchterm):\n",
    "    db='Hydat_flow/Hydat.sqlite3'\n",
    "    con=sqlite3.connect(db)\n",
    "    \n",
    "    tables=pd.read_sql_query(\"SELECT name FROM sqlite_master WHERE type='table';\",con)\n",
    "    stations=pd.read_sql_query(\"SELECT * from STATIONS\", con)\n",
    "    \n",
    "    i=[ind for ind,x in enumerate(stations['PROV_TERR_STATE_LOC']) if x==prov]\n",
    "    stn=stations.iloc[i]\n",
    "    \n",
    "    i=[ind for ind,x in enumerate(stn['STATION_NAME']) if searchterm.lower() in x.lower()]\n",
    "    stn_name=stn.iloc[i]['STATION_NAME'].values\n",
    "    if len(stn_name)>1:\n",
    "        print('Your search returned more than one station... \\nSee list below and refine your search:\\n')\n",
    "        print(stn_name)\n",
    "        return [],[]\n",
    "    \n",
    "    elif len(stn_name)==0:\n",
    "        print('Your search returned nothing... try again')\n",
    "        return [],[]\n",
    "    \n",
    "    else:\n",
    "        print('Returned data for ' + stn_name[0])\n",
    "        stn_no=stn['STATION_NUMBER'].iloc[i].values[0]\n",
    "\n",
    "        data=pd.read_sql_query('SELECT * from DLY_FLOWS where STATION_NUMBER=\"%s\"'%stn_no, con)\n",
    "\n",
    "        qd=GetDaily(data)\n",
    "        qm=GetMonthly(data)\n",
    "    \n",
    "        return qd,qm\n",
    "\n",
    "def GetDaily(data):\n",
    "    \n",
    "    years=data['YEAR'].values\n",
    "    months=data['MONTH'].values\n",
    "    days=data['NO_DAYS'].values\n",
    "    \n",
    "    # Daily flow\n",
    "    flow=np.zeros((len(days),31))\n",
    "    for i in range(31):\n",
    "        flow[:,i]=data['FLOW%d'%(i+1)].values\n",
    "\n",
    "    # reshape flows onto a single column\n",
    "    Q=np.array([])\n",
    "    for i,d in enumerate(days):\n",
    "        Q=np.hstack((Q,flow[i,:d]))\n",
    "\n",
    "    # get datetimes\n",
    "    tday=[]\n",
    "    for i in range(len(days)):\n",
    "        y=years[i]\n",
    "        m=months[i]\n",
    "        for day in range(1,days[i]+1):\n",
    "            tday.append(pd.Timestamp(year=y,month=m,day=day))\n",
    "\n",
    "    qd=pd.DataFrame(index=tday)\n",
    "    qd['Q']=Q\n",
    "    \n",
    "    # This line replaces any gaps with nans\n",
    "    qd=qd.resample('D').first()\n",
    "    \n",
    "    return qd\n",
    "\n",
    "def GetMonthly(data):\n",
    "    \n",
    "    years=data['YEAR'].values\n",
    "    months=data['MONTH'].values\n",
    "    days=data['NO_DAYS'].values\n",
    "    \n",
    "    # Mean monthly flow\n",
    "    meanflow=data['MONTHLY_MEAN'].values\n",
    "    tmon=[pd.Timestamp(year=y,month=m,day=1) for y,m in zip(years,months)]\n",
    "    qm=pd.DataFrame(index=tmon)\n",
    "    qm['Q']=meanflow\n",
    "    qm=qm.resample('MS').first()\n",
    "    \n",
    "    return qm"
   ]
  },
  {
   "cell_type": "code",
   "execution_count": null,
   "metadata": {},
   "outputs": [],
   "source": [
    "# ONLY RUN THIS ONCE - Downloads the Hydat database - large file\n",
    "import os.path\n",
    "\n",
    "if os.path.isfile('Hydat_flow/Hydat.sqlite3'):\n",
    "    print('You already have the Hydat SQL database... nothing downloaded')\n",
    "else:\n",
    "    import urllib.request\n",
    "    import zipfile\n",
    "\n",
    "    # Download (this will take awhile, and will save the file Hydat.zip)\n",
    "    # Note - you may need to check to see if the file name has been updated - go here https://collaboration.cmc.ec.gc.ca/cmc/hydrometrics/www\n",
    "    url='https://collaboration.cmc.ec.gc.ca/cmc/hydrometrics/www/Hydat_sqlite3_20210721.zip'\n",
    "    urllib.request.urlretrieve(url, './Hydat_flow/Hydat.zip')\n",
    "\n",
    "    # Unzip hydat.zip which will extract the file Hydat.sqlite3\n",
    "    with zipfile.ZipFile('./Hydat_flow/Hydat.zip', 'r') as zip_ref:\n",
    "        zip_ref.extractall('Hydat_flow')"
   ]
  },
  {
   "cell_type": "code",
   "execution_count": null,
   "metadata": {},
   "outputs": [],
   "source": [
    "qd,qm=GetData('SK','at saskatoon')"
   ]
  },
  {
   "cell_type": "code",
   "execution_count": null,
   "metadata": {},
   "outputs": [],
   "source": [
    "# Plot flows\n",
    "ax=qd.resample('MS').mean().plot(marker='o')\n",
    "qm.plot(ax=ax,marker='.')\n",
    "pl.legend(['Daily resampled','Monthly'])"
   ]
  },
  {
   "cell_type": "code",
   "execution_count": null,
   "metadata": {},
   "outputs": [],
   "source": [
    "# Plot just one year:\n",
    "qd['2005'].plot()"
   ]
  },
  {
   "cell_type": "code",
   "execution_count": null,
   "metadata": {},
   "outputs": [],
   "source": [
    "# Plot data for a number of years, against day of year\n",
    "for y in range(2000,2019):\n",
    "    pl.plot(qd[str(y)].index.dayofyear,qd[str(y)])"
   ]
  },
  {
   "cell_type": "code",
   "execution_count": null,
   "metadata": {},
   "outputs": [],
   "source": [
    "# Save the data\n",
    "sl.save(qd,'SouthSask_Saskatoon')"
   ]
  },
  {
   "cell_type": "code",
   "execution_count": null,
   "metadata": {},
   "outputs": [],
   "source": []
  }
 ],
 "metadata": {
  "kernelspec": {
   "display_name": "Python 3",
   "language": "python",
   "name": "python3"
  },
  "language_info": {
   "codemirror_mode": {
    "name": "ipython",
    "version": 3
   },
   "file_extension": ".py",
   "mimetype": "text/x-python",
   "name": "python",
   "nbconvert_exporter": "python",
   "pygments_lexer": "ipython3",
   "version": "3.7.7"
  }
 },
 "nbformat": 4,
 "nbformat_minor": 4
}
